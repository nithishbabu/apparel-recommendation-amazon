{
  "nbformat": 4,
  "nbformat_minor": 0,
  "metadata": {
    "colab": {
      "name": "assign_amazon_reco.ipynb",
      "version": "0.3.2",
      "provenance": []
    },
    "language_info": {
      "codemirror_mode": {
        "name": "ipython",
        "version": 3
      },
      "file_extension": ".py",
      "mimetype": "text/x-python",
      "name": "python",
      "nbconvert_exporter": "python",
      "pygments_lexer": "ipython3",
      "version": "3.6.5"
    },
    "kernelspec": {
      "display_name": "Python 3",
      "language": "python",
      "name": "python3"
    }
  },
  "cells": [
    {
      "cell_type": "markdown",
      "metadata": {
        "colab_type": "text",
        "id": "bxy7KLk3N5Su"
      },
      "source": [
        "<h1> Amazon Apparel Recommendations </h1>\n",
        "\n"
      ]
    },
    {
      "cell_type": "markdown",
      "metadata": {
        "colab_type": "text",
        "id": "QGsqm2-kN5Sx"
      },
      "source": [
        "### Business Problem:\n",
        "Build a content based Apparel Recommendation System Using Amazon.com Apparel Data on Women's Top.\n",
        "\n"
      ]
    },
    {
      "cell_type": "markdown",
      "metadata": {
        "id": "MLNvgIFEMLLk",
        "colab_type": "text"
      },
      "source": [
        "### Data Source:"
      ]
    },
    {
      "cell_type": "markdown",
      "metadata": {
        "id": "UdIkyXveMLLm",
        "colab_type": "text"
      },
      "source": [
        "The data has been obtained using Amazon product Advertising API . "
      ]
    },
    {
      "cell_type": "markdown",
      "metadata": {
        "colab_type": "text",
        "id": "Y5WTl6s8N5Sz"
      },
      "source": [
        "### [4.3] Overview of the data"
      ]
    },
    {
      "cell_type": "code",
      "metadata": {
        "colab_type": "code",
        "id": "RW8Y5ILVN5S1",
        "outputId": "472f3bc7-e36c-4bc2-ad5c-e29868e741ea",
        "colab": {}
      },
      "source": [
        "#import all the necessary packages.\n",
        "\n",
        "from PIL import Image\n",
        "import requests\n",
        "from io import BytesIO\n",
        "import matplotlib.pyplot as plt\n",
        "import numpy as np\n",
        "import pandas as pd\n",
        "import warnings\n",
        "from bs4 import BeautifulSoup\n",
        "from nltk.corpus import stopwords\n",
        "from nltk.tokenize import word_tokenize\n",
        "import nltk\n",
        "import math\n",
        "import time\n",
        "import re\n",
        "import os\n",
        "import seaborn as sns\n",
        "from collections import Counter\n",
        "from sklearn.feature_extraction.text import CountVectorizer\n",
        "from sklearn.feature_extraction.text import TfidfVectorizer\n",
        "from sklearn.metrics.pairwise import cosine_similarity  \n",
        "from sklearn.metrics import pairwise_distances\n",
        "from matplotlib import gridspec\n",
        "from scipy.sparse import hstack\n",
        "import plotly\n",
        "import plotly.figure_factory as ff\n",
        "from plotly.graph_objs import Scatter, Layout\n",
        "\n",
        "plotly.offline.init_notebook_mode(connected=True)\n",
        "warnings.filterwarnings(\"ignore\")"
      ],
      "execution_count": 0,
      "outputs": [
        {
          "output_type": "display_data",
          "data": {
            "text/html": [
              "<script type=\"text/javascript\">window.PlotlyConfig = {MathJaxConfig: 'local'};</script><script type=\"text/javascript\">if (window.MathJax) {MathJax.Hub.Config({SVG: {font: \"STIX-Web\"}});}</script><script>requirejs.config({paths: { 'plotly': ['https://cdn.plot.ly/plotly-latest.min']},});if(!window._Plotly) {require(['plotly'],function(plotly) {window._Plotly=plotly;});}</script>"
            ],
            "text/vnd.plotly.v1+html": "<script type=\"text/javascript\">window.PlotlyConfig = {MathJaxConfig: 'local'};</script><script type=\"text/javascript\">if (window.MathJax) {MathJax.Hub.Config({SVG: {font: \"STIX-Web\"}});}</script><script>requirejs.config({paths: { 'plotly': ['https://cdn.plot.ly/plotly-latest.min']},});if(!window._Plotly) {require(['plotly'],function(plotly) {window._Plotly=plotly;});}</script>"
          },
          "metadata": {
            "tags": []
          }
        }
      ]
    },
    {
      "cell_type": "code",
      "metadata": {
        "colab_type": "code",
        "id": "gq1rL7vyN5TB",
        "colab": {}
      },
      "source": [
        "# loading the data using pandas' read_json file.\n",
        "data = pd.read_json('tops_fashion.json')\n"
      ],
      "execution_count": 0,
      "outputs": []
    },
    {
      "cell_type": "code",
      "metadata": {
        "colab_type": "code",
        "id": "NBGmJv35N5TH",
        "outputId": "349fabb8-e3f3-48ff-dfda-ef9affa4cf21",
        "colab": {}
      },
      "source": [
        "print ('Number of data points : ', data.shape[0], \\\n",
        "       'Number of features/variables:', data.shape[1])"
      ],
      "execution_count": 0,
      "outputs": [
        {
          "output_type": "stream",
          "text": [
            "Number of data points :  183138 Number of features/variables: 19\n"
          ],
          "name": "stdout"
        }
      ]
    },
    {
      "cell_type": "code",
      "metadata": {
        "colab_type": "code",
        "id": "7uZ_UmJLN5TQ",
        "outputId": "09b2c1c8-c140-474c-9680-e244fc7feada",
        "colab": {}
      },
      "source": [
        "# each product/item has 19 features in the raw dataset.\n",
        "data.columns # prints column-names or feature-names."
      ],
      "execution_count": 0,
      "outputs": [
        {
          "output_type": "execute_result",
          "data": {
            "text/plain": [
              "Index(['asin', 'author', 'availability', 'availability_type', 'brand', 'color',\n",
              "       'editorial_reivew', 'editorial_review', 'formatted_price',\n",
              "       'large_image_url', 'manufacturer', 'medium_image_url', 'model',\n",
              "       'product_type_name', 'publisher', 'reviews', 'sku', 'small_image_url',\n",
              "       'title'],\n",
              "      dtype='object')"
            ]
          },
          "metadata": {
            "tags": []
          },
          "execution_count": 4
        }
      ]
    },
    {
      "cell_type": "markdown",
      "metadata": {
        "colab_type": "text",
        "id": "0pKNNNSpN5TY"
      },
      "source": [
        "Of these 19 features, we will be using only 6 features.\n",
        "    1. asin  ( Amazon standard identification number)\n",
        "    2. brand ( brand to which the product belongs to )\n",
        "    3. color ( Color information of apparel, it can contain many colors as   a value ex: red and black stripes ) \n",
        "    4. product_type_name (type of the apperal, ex: SHIRT/TSHIRT )\n",
        "    5. medium_image_url  ( url of the image )\n",
        "    6. title (title of the product.)\n",
        "    7. formatted_price (price of the product)"
      ]
    },
    {
      "cell_type": "code",
      "metadata": {
        "colab_type": "code",
        "id": "5dCtPbdQN5Ta",
        "colab": {}
      },
      "source": [
        "data = data[['asin', 'brand', 'color', 'medium_image_url', 'product_type_name', 'title', 'formatted_price']]"
      ],
      "execution_count": 0,
      "outputs": []
    },
    {
      "cell_type": "code",
      "metadata": {
        "colab_type": "code",
        "id": "oJusqAspN5Tg",
        "outputId": "082d7ee3-1ec7-4019-8045-fc58305e6815",
        "colab": {}
      },
      "source": [
        "print ('Number of data points : ', data.shape[0], \\\n",
        "       'Number of features:', data.shape[1])\n",
        "data.head() # prints the top rows in the table."
      ],
      "execution_count": 0,
      "outputs": [
        {
          "output_type": "stream",
          "text": [
            "Number of data points :  183138 Number of features: 7\n"
          ],
          "name": "stdout"
        },
        {
          "output_type": "execute_result",
          "data": {
            "text/html": [
              "<div>\n",
              "<style scoped>\n",
              "    .dataframe tbody tr th:only-of-type {\n",
              "        vertical-align: middle;\n",
              "    }\n",
              "\n",
              "    .dataframe tbody tr th {\n",
              "        vertical-align: top;\n",
              "    }\n",
              "\n",
              "    .dataframe thead th {\n",
              "        text-align: right;\n",
              "    }\n",
              "</style>\n",
              "<table border=\"1\" class=\"dataframe\">\n",
              "  <thead>\n",
              "    <tr style=\"text-align: right;\">\n",
              "      <th></th>\n",
              "      <th>asin</th>\n",
              "      <th>brand</th>\n",
              "      <th>color</th>\n",
              "      <th>medium_image_url</th>\n",
              "      <th>product_type_name</th>\n",
              "      <th>title</th>\n",
              "      <th>formatted_price</th>\n",
              "    </tr>\n",
              "  </thead>\n",
              "  <tbody>\n",
              "    <tr>\n",
              "      <th>0</th>\n",
              "      <td>B016I2TS4W</td>\n",
              "      <td>FNC7C</td>\n",
              "      <td>None</td>\n",
              "      <td>https://images-na.ssl-images-amazon.com/images...</td>\n",
              "      <td>SHIRT</td>\n",
              "      <td>Minions Como Superheroes Ironman Long Sleeve R...</td>\n",
              "      <td>None</td>\n",
              "    </tr>\n",
              "    <tr>\n",
              "      <th>1</th>\n",
              "      <td>B01N49AI08</td>\n",
              "      <td>FIG Clothing</td>\n",
              "      <td>None</td>\n",
              "      <td>https://images-na.ssl-images-amazon.com/images...</td>\n",
              "      <td>SHIRT</td>\n",
              "      <td>FIG Clothing Womens Izo Tunic</td>\n",
              "      <td>None</td>\n",
              "    </tr>\n",
              "    <tr>\n",
              "      <th>2</th>\n",
              "      <td>B01JDPCOHO</td>\n",
              "      <td>FIG Clothing</td>\n",
              "      <td>None</td>\n",
              "      <td>https://images-na.ssl-images-amazon.com/images...</td>\n",
              "      <td>SHIRT</td>\n",
              "      <td>FIG Clothing Womens Won Top</td>\n",
              "      <td>None</td>\n",
              "    </tr>\n",
              "    <tr>\n",
              "      <th>3</th>\n",
              "      <td>B01N19U5H5</td>\n",
              "      <td>Focal18</td>\n",
              "      <td>None</td>\n",
              "      <td>https://images-na.ssl-images-amazon.com/images...</td>\n",
              "      <td>SHIRT</td>\n",
              "      <td>Focal18 Sailor Collar Bubble Sleeve Blouse Shi...</td>\n",
              "      <td>None</td>\n",
              "    </tr>\n",
              "    <tr>\n",
              "      <th>4</th>\n",
              "      <td>B004GSI2OS</td>\n",
              "      <td>FeatherLite</td>\n",
              "      <td>Onyx Black/ Stone</td>\n",
              "      <td>https://images-na.ssl-images-amazon.com/images...</td>\n",
              "      <td>SHIRT</td>\n",
              "      <td>Featherlite Ladies' Long Sleeve Stain Resistan...</td>\n",
              "      <td>$26.26</td>\n",
              "    </tr>\n",
              "  </tbody>\n",
              "</table>\n",
              "</div>"
            ],
            "text/plain": [
              "         asin         brand              color  \\\n",
              "0  B016I2TS4W         FNC7C               None   \n",
              "1  B01N49AI08  FIG Clothing               None   \n",
              "2  B01JDPCOHO  FIG Clothing               None   \n",
              "3  B01N19U5H5       Focal18               None   \n",
              "4  B004GSI2OS   FeatherLite  Onyx Black/ Stone   \n",
              "\n",
              "                                    medium_image_url product_type_name  \\\n",
              "0  https://images-na.ssl-images-amazon.com/images...             SHIRT   \n",
              "1  https://images-na.ssl-images-amazon.com/images...             SHIRT   \n",
              "2  https://images-na.ssl-images-amazon.com/images...             SHIRT   \n",
              "3  https://images-na.ssl-images-amazon.com/images...             SHIRT   \n",
              "4  https://images-na.ssl-images-amazon.com/images...             SHIRT   \n",
              "\n",
              "                                               title formatted_price  \n",
              "0  Minions Como Superheroes Ironman Long Sleeve R...            None  \n",
              "1                      FIG Clothing Womens Izo Tunic            None  \n",
              "2                        FIG Clothing Womens Won Top            None  \n",
              "3  Focal18 Sailor Collar Bubble Sleeve Blouse Shi...            None  \n",
              "4  Featherlite Ladies' Long Sleeve Stain Resistan...          $26.26  "
            ]
          },
          "metadata": {
            "tags": []
          },
          "execution_count": 6
        }
      ]
    },
    {
      "cell_type": "markdown",
      "metadata": {
        "colab_type": "text",
        "id": "gKkmHvgLN5To"
      },
      "source": [
        "### Missing data for various features."
      ]
    },
    {
      "cell_type": "markdown",
      "metadata": {
        "colab_type": "text",
        "id": "K8NbRPUYN5Tq"
      },
      "source": [
        "####  Basic stats for the feature: product_type_name"
      ]
    },
    {
      "cell_type": "code",
      "metadata": {
        "colab_type": "code",
        "id": "5m-HJiEAN5Tr",
        "outputId": "98fbd8ce-329f-48ae-f13a-de7e9dd1c13e",
        "scrolled": true,
        "colab": {}
      },
      "source": [
        "# We have total 72 unique type of product_type_names\n",
        "print(data['product_type_name'].describe())\n",
        "\n",
        "# 91.62% (167794/183138) of the products are shirts,\n"
      ],
      "execution_count": 0,
      "outputs": [
        {
          "output_type": "stream",
          "text": [
            "count     183138\n",
            "unique        72\n",
            "top        SHIRT\n",
            "freq      167794\n",
            "Name: product_type_name, dtype: object\n"
          ],
          "name": "stdout"
        }
      ]
    },
    {
      "cell_type": "code",
      "metadata": {
        "colab_type": "code",
        "id": "4QWwGm9cN5Tz",
        "outputId": "a72dee6e-02a8-4e0e-b48c-0d371e0575eb",
        "scrolled": true,
        "colab": {}
      },
      "source": [
        "# names of different product types\n",
        "print(data['product_type_name'].unique())"
      ],
      "execution_count": 0,
      "outputs": [
        {
          "output_type": "stream",
          "text": [
            "['SHIRT' 'SWEATER' 'APPAREL' 'OUTDOOR_RECREATION_PRODUCT'\n",
            " 'BOOKS_1973_AND_LATER' 'PANTS' 'HAT' 'SPORTING_GOODS' 'DRESS' 'UNDERWEAR'\n",
            " 'SKIRT' 'OUTERWEAR' 'BRA' 'ACCESSORY' 'ART_SUPPLIES' 'SLEEPWEAR'\n",
            " 'ORCA_SHIRT' 'HANDBAG' 'PET_SUPPLIES' 'SHOES' 'KITCHEN' 'ADULT_COSTUME'\n",
            " 'HOME_BED_AND_BATH' 'MISC_OTHER' 'BLAZER' 'HEALTH_PERSONAL_CARE'\n",
            " 'TOYS_AND_GAMES' 'SWIMWEAR' 'CONSUMER_ELECTRONICS' 'SHORTS' 'HOME'\n",
            " 'AUTO_PART' 'OFFICE_PRODUCTS' 'ETHNIC_WEAR' 'BEAUTY'\n",
            " 'INSTRUMENT_PARTS_AND_ACCESSORIES' 'POWERSPORTS_PROTECTIVE_GEAR' 'SHIRTS'\n",
            " 'ABIS_APPAREL' 'AUTO_ACCESSORY' 'NONAPPARELMISC' 'TOOLS' 'BABY_PRODUCT'\n",
            " 'SOCKSHOSIERY' 'POWERSPORTS_RIDING_SHIRT' 'EYEWEAR' 'SUIT'\n",
            " 'OUTDOOR_LIVING' 'POWERSPORTS_RIDING_JACKET' 'HARDWARE' 'SAFETY_SUPPLY'\n",
            " 'ABIS_DVD' 'VIDEO_DVD' 'GOLF_CLUB' 'MUSIC_POPULAR_VINYL'\n",
            " 'HOME_FURNITURE_AND_DECOR' 'TABLET_COMPUTER' 'GUILD_ACCESSORIES'\n",
            " 'ABIS_SPORTS' 'ART_AND_CRAFT_SUPPLY' 'BAG' 'MECHANICAL_COMPONENTS'\n",
            " 'SOUND_AND_RECORDING_EQUIPMENT' 'COMPUTER_COMPONENT' 'JEWELRY'\n",
            " 'BUILDING_MATERIAL' 'LUGGAGE' 'BABY_COSTUME' 'POWERSPORTS_VEHICLE_PART'\n",
            " 'PROFESSIONAL_HEALTHCARE' 'SEEDS_AND_PLANTS' 'WIRELESS_ACCESSORY']\n"
          ],
          "name": "stdout"
        }
      ]
    },
    {
      "cell_type": "code",
      "metadata": {
        "colab_type": "code",
        "id": "past1AwmN5T6",
        "outputId": "1f371421-7079-412d-95f6-11e274cfb2cf",
        "colab": {}
      },
      "source": [
        "# find the 10 most frequent product_type_names.\n",
        "product_type_count = Counter(list(data['product_type_name']))\n",
        "product_type_count.most_common(10)"
      ],
      "execution_count": 0,
      "outputs": [
        {
          "output_type": "execute_result",
          "data": {
            "text/plain": [
              "[('SHIRT', 167794),\n",
              " ('APPAREL', 3549),\n",
              " ('BOOKS_1973_AND_LATER', 3336),\n",
              " ('DRESS', 1584),\n",
              " ('SPORTING_GOODS', 1281),\n",
              " ('SWEATER', 837),\n",
              " ('OUTERWEAR', 796),\n",
              " ('OUTDOOR_RECREATION_PRODUCT', 729),\n",
              " ('ACCESSORY', 636),\n",
              " ('UNDERWEAR', 425)]"
            ]
          },
          "metadata": {
            "tags": []
          },
          "execution_count": 9
        }
      ]
    },
    {
      "cell_type": "markdown",
      "metadata": {
        "colab_type": "text",
        "id": "QybvKw9vN5UC"
      },
      "source": [
        "####  Basic stats for the feature: brand"
      ]
    },
    {
      "cell_type": "code",
      "metadata": {
        "colab_type": "code",
        "id": "-uSZnupON5UE",
        "outputId": "a8f0306d-a9fc-47c5-f864-2fc23fb2edbe",
        "colab": {}
      },
      "source": [
        "# there are 10577 unique brands\n",
        "print(data['brand'].describe())\n",
        "\n",
        "# 183138 - 182987 = 151 missing values."
      ],
      "execution_count": 0,
      "outputs": [
        {
          "output_type": "stream",
          "text": [
            "count     182987\n",
            "unique     10577\n",
            "top         Zago\n",
            "freq         223\n",
            "Name: brand, dtype: object\n"
          ],
          "name": "stdout"
        }
      ]
    },
    {
      "cell_type": "code",
      "metadata": {
        "colab_type": "code",
        "id": "d6zSIN-1N5UL",
        "outputId": "d00c2e71-8203-4904-a182-0179f277ff36",
        "colab": {}
      },
      "source": [
        "brand_count = Counter(list(data['brand']))\n",
        "brand_count.most_common(10)"
      ],
      "execution_count": 0,
      "outputs": [
        {
          "output_type": "execute_result",
          "data": {
            "text/plain": [
              "[('Zago', 223),\n",
              " ('XQS', 222),\n",
              " ('Yayun', 215),\n",
              " ('YUNY', 198),\n",
              " ('XiaoTianXin-women clothes', 193),\n",
              " ('Generic', 192),\n",
              " ('Boohoo', 190),\n",
              " ('Alion', 188),\n",
              " ('Abetteric', 187),\n",
              " ('TheMogan', 187)]"
            ]
          },
          "metadata": {
            "tags": []
          },
          "execution_count": 11
        }
      ]
    },
    {
      "cell_type": "markdown",
      "metadata": {
        "colab_type": "text",
        "id": "lZ9aFHW9N5US"
      },
      "source": [
        "####  Basic stats for the feature: color"
      ]
    },
    {
      "cell_type": "code",
      "metadata": {
        "colab_type": "code",
        "id": "D7i98-lDN5UW",
        "outputId": "0a672d14-9845-4dfc-b44d-9f86f86e167a",
        "colab": {}
      },
      "source": [
        "\n",
        "print(data['color'].describe())\n",
        "\n",
        "\n",
        "# we have 7380 unique colors\n",
        "# 7.2% of products are black in color\n",
        "# 64956 of 183138 products have brand information. That's approx 35.4%."
      ],
      "execution_count": 0,
      "outputs": [
        {
          "output_type": "stream",
          "text": [
            "count     64956\n",
            "unique     7380\n",
            "top       Black\n",
            "freq      13207\n",
            "Name: color, dtype: object\n"
          ],
          "name": "stdout"
        }
      ]
    },
    {
      "cell_type": "code",
      "metadata": {
        "colab_type": "code",
        "id": "nmQ8A0HLN5Ue",
        "outputId": "de897d9e-1441-4c5b-fe41-31d6dec2dc8f",
        "colab": {}
      },
      "source": [
        "color_count = Counter(list(data['color']))\n",
        "color_count.most_common(10)"
      ],
      "execution_count": 0,
      "outputs": [
        {
          "output_type": "execute_result",
          "data": {
            "text/plain": [
              "[(None, 118182),\n",
              " ('Black', 13207),\n",
              " ('White', 8616),\n",
              " ('Blue', 3570),\n",
              " ('Red', 2289),\n",
              " ('Pink', 1842),\n",
              " ('Grey', 1499),\n",
              " ('*', 1388),\n",
              " ('Green', 1258),\n",
              " ('Multi', 1203)]"
            ]
          },
          "metadata": {
            "tags": []
          },
          "execution_count": 13
        }
      ]
    },
    {
      "cell_type": "markdown",
      "metadata": {
        "colab_type": "text",
        "id": "iNvmp1eeN5Un"
      },
      "source": [
        "####  Basic stats for the feature: formatted_price"
      ]
    },
    {
      "cell_type": "code",
      "metadata": {
        "colab_type": "code",
        "id": "iFWC6ZnoN5Uo",
        "outputId": "3c62471a-bacc-4dc7-c76a-46962452d65f",
        "colab": {}
      },
      "source": [
        " \n",
        "print(data['formatted_price'].describe())\n",
        "\n",
        "# Only 28,395 (15.5% of whole data) products with price information"
      ],
      "execution_count": 0,
      "outputs": [
        {
          "output_type": "stream",
          "text": [
            "count      28395\n",
            "unique      3135\n",
            "top       $19.99\n",
            "freq         945\n",
            "Name: formatted_price, dtype: object\n"
          ],
          "name": "stdout"
        }
      ]
    },
    {
      "cell_type": "code",
      "metadata": {
        "colab_type": "code",
        "id": "59925NEIN5Uw",
        "outputId": "a0bb990e-c4fa-4ced-8797-add11c24ad85",
        "colab": {}
      },
      "source": [
        "price_count = Counter(list(data['formatted_price']))\n",
        "price_count.most_common(10)"
      ],
      "execution_count": 0,
      "outputs": [
        {
          "output_type": "execute_result",
          "data": {
            "text/plain": [
              "[(None, 154743),\n",
              " ('$19.99', 945),\n",
              " ('$9.99', 749),\n",
              " ('$9.50', 601),\n",
              " ('$14.99', 472),\n",
              " ('$7.50', 463),\n",
              " ('$24.99', 414),\n",
              " ('$29.99', 370),\n",
              " ('$8.99', 343),\n",
              " ('$9.01', 336)]"
            ]
          },
          "metadata": {
            "tags": []
          },
          "execution_count": 15
        }
      ]
    },
    {
      "cell_type": "markdown",
      "metadata": {
        "colab_type": "text",
        "id": "aYHl4cPhN5U4"
      },
      "source": [
        "#### Basic stats for the feature: title\n"
      ]
    },
    {
      "cell_type": "code",
      "metadata": {
        "colab_type": "code",
        "id": "UjR_SBO7N5U5",
        "outputId": "9acfda57-2397-4e7f-c2ed-d97d20ac1a27",
        "colab": {}
      },
      "source": [
        "print(data['title'].describe())\n",
        "\n",
        "# All of the products have a title. \n",
        "# Titles are fairly descriptive of what the product is. \n",
        "# We use titles extensively in this workshop \n",
        "# as they are short and informative.\n"
      ],
      "execution_count": 0,
      "outputs": [
        {
          "output_type": "stream",
          "text": [
            "count                                                183138\n",
            "unique                                               175985\n",
            "top       Nakoda Cotton Self Print Straight Kurti For Women\n",
            "freq                                                     77\n",
            "Name: title, dtype: object\n"
          ],
          "name": "stdout"
        }
      ]
    },
    {
      "cell_type": "code",
      "metadata": {
        "colab_type": "code",
        "id": "rFSTXhh-N5VJ",
        "outputId": "015cf5da-de45-4e0b-fc39-07709448efa7",
        "colab": {}
      },
      "source": [
        "# consider products which have price information\n",
        "# data['formatted_price'].isnull() => gives the information \n",
        "#about the dataframe row's which have null values price == None|Null\n",
        "data = data.loc[~data['formatted_price'].isnull()]\n",
        "print('Number of data points After eliminating price=NULL :', data.shape[0])"
      ],
      "execution_count": 0,
      "outputs": [
        {
          "output_type": "stream",
          "text": [
            "Number of data points After eliminating price=NULL : 28395\n"
          ],
          "name": "stdout"
        }
      ]
    },
    {
      "cell_type": "code",
      "metadata": {
        "colab_type": "code",
        "id": "CT4sVFQGN5VP",
        "outputId": "7de5f596-0bae-4194-ca9f-03e2d8495463",
        "colab": {}
      },
      "source": [
        "# consider products which have color information\n",
        "# data['color'].isnull() => gives the information about the dataframe row's which have null values price == None|Null\n",
        "data =data.loc[~data['color'].isnull()]\n",
        "print('Number of data points After eliminating color=NULL :', data.shape[0])"
      ],
      "execution_count": 0,
      "outputs": [
        {
          "output_type": "stream",
          "text": [
            "Number of data points After eliminating color=NULL : 28385\n"
          ],
          "name": "stdout"
        }
      ]
    },
    {
      "cell_type": "code",
      "metadata": {
        "colab_type": "code",
        "id": "TSAvpncIN5VX",
        "colab": {}
      },
      "source": [
        "data.to_pickle('pickels/28k_apparel_data')"
      ],
      "execution_count": 0,
      "outputs": []
    },
    {
      "cell_type": "markdown",
      "metadata": {
        "colab_type": "text",
        "id": "BOzAxFh8N5Vj"
      },
      "source": [
        "### Remove near duplicate items"
      ]
    },
    {
      "cell_type": "markdown",
      "metadata": {
        "colab_type": "text",
        "id": "dnzGS8hpN5Vl"
      },
      "source": [
        "#### [5.2.1] Understand about duplicates."
      ]
    },
    {
      "cell_type": "code",
      "metadata": {
        "colab_type": "code",
        "id": "-hO9lbDLN5Vr",
        "outputId": "78fd4b61-0914-4674-f731-4fd12393d47a",
        "colab": {}
      },
      "source": [
        "# read data from pickle file from previous stage\n",
        "data = pd.read_pickle('pickels/28k_apparel_data')\n",
        "\n",
        "# find number of products that have duplicate titles.\n",
        "print(sum(data.duplicated('title')))\n",
        "# we have 2325 products which have same title but different color\n"
      ],
      "execution_count": 0,
      "outputs": [
        {
          "output_type": "stream",
          "text": [
            "2325\n"
          ],
          "name": "stdout"
        }
      ]
    },
    {
      "cell_type": "markdown",
      "metadata": {
        "colab_type": "text",
        "id": "VO_9U6qzN5Vw"
      },
      "source": [
        "#### These shirts are exactly same except in size (S, M,L,XL)"
      ]
    },
    {
      "cell_type": "markdown",
      "metadata": {
        "colab_type": "text",
        "id": "GOMdKdMNN5Vy"
      },
      "source": [
        "<table>\n",
        "<tr> \n",
        "<td><img src=\"dedupe/B00AQ4GMCK.jpeg\",width=100,height=100> :B00AQ4GMCK</td>\n",
        "<td><img src=\"dedupe/B00AQ4GMTS.jpeg\",width=100,height=100> :B00AQ4GMTS</td>\n",
        "</tr>\n",
        "<tr> \n",
        "<td><img src=\"dedupe/B00AQ4GMLQ.jpeg\",width=100,height=100> :B00AQ4GMLQ</td>\n",
        "<td><img src=\"dedupe/B00AQ4GN3I.jpeg\",width=100,height=100> :B00AQ4GN3I</td>\n",
        "</tr>\n",
        "</table>"
      ]
    },
    {
      "cell_type": "markdown",
      "metadata": {
        "colab_type": "text",
        "id": "PpoIc6DxN5V1"
      },
      "source": [
        "#### These shirts exactly same except  in color"
      ]
    },
    {
      "cell_type": "markdown",
      "metadata": {
        "colab_type": "text",
        "id": "kulQdKRQN5V2"
      },
      "source": [
        "<table>\n",
        "<tr> \n",
        "<td><img src=\"dedupe/B00G278GZ6.jpeg\",width=100,height=100> :B00G278GZ6</td>\n",
        "<td><img src=\"dedupe/B00G278W6O.jpeg\",width=100,height=100> :B00G278W6O</td>\n",
        "</tr>\n",
        "<tr> \n",
        "<td><img src=\"dedupe/B00G278Z2A.jpeg\",width=100,height=100> :B00G278Z2A</td>\n",
        "<td><img src=\"dedupe/B00G2786X8.jpeg\",width=100,height=100> :B00G2786X8</td>\n",
        "</tr>\n",
        "</table>"
      ]
    },
    {
      "cell_type": "markdown",
      "metadata": {
        "colab_type": "text",
        "id": "2y8G7oJyN5V4"
      },
      "source": [
        "#### In our data there are many duplicate products like the above examples, we need to de-dupe them for better results.\n"
      ]
    },
    {
      "cell_type": "markdown",
      "metadata": {
        "colab_type": "text",
        "id": "GMAXj4i2N5V6"
      },
      "source": [
        "#### Remove duplicates : Part 1"
      ]
    },
    {
      "cell_type": "code",
      "metadata": {
        "colab_type": "code",
        "id": "vBYh8PriN5V7",
        "colab": {}
      },
      "source": [
        "# read data from pickle file from previous stage\n",
        "data = pd.read_pickle('pickels/28k_apparel_data')"
      ],
      "execution_count": 0,
      "outputs": []
    },
    {
      "cell_type": "code",
      "metadata": {
        "colab_type": "code",
        "id": "GrVZ24j3N5WA",
        "outputId": "5e6b725c-d74b-49b2-9b52-4cc492950d04",
        "colab": {}
      },
      "source": [
        "data.head()"
      ],
      "execution_count": 0,
      "outputs": [
        {
          "output_type": "execute_result",
          "data": {
            "text/html": [
              "<div>\n",
              "<style scoped>\n",
              "    .dataframe tbody tr th:only-of-type {\n",
              "        vertical-align: middle;\n",
              "    }\n",
              "\n",
              "    .dataframe tbody tr th {\n",
              "        vertical-align: top;\n",
              "    }\n",
              "\n",
              "    .dataframe thead th {\n",
              "        text-align: right;\n",
              "    }\n",
              "</style>\n",
              "<table border=\"1\" class=\"dataframe\">\n",
              "  <thead>\n",
              "    <tr style=\"text-align: right;\">\n",
              "      <th></th>\n",
              "      <th>asin</th>\n",
              "      <th>brand</th>\n",
              "      <th>color</th>\n",
              "      <th>medium_image_url</th>\n",
              "      <th>product_type_name</th>\n",
              "      <th>title</th>\n",
              "      <th>formatted_price</th>\n",
              "    </tr>\n",
              "  </thead>\n",
              "  <tbody>\n",
              "    <tr>\n",
              "      <th>4</th>\n",
              "      <td>B004GSI2OS</td>\n",
              "      <td>FeatherLite</td>\n",
              "      <td>Onyx Black/ Stone</td>\n",
              "      <td>https://images-na.ssl-images-amazon.com/images...</td>\n",
              "      <td>SHIRT</td>\n",
              "      <td>Featherlite Ladies' Long Sleeve Stain Resistan...</td>\n",
              "      <td>$26.26</td>\n",
              "    </tr>\n",
              "    <tr>\n",
              "      <th>6</th>\n",
              "      <td>B012YX2ZPI</td>\n",
              "      <td>HX-Kingdom Fashion T-shirts</td>\n",
              "      <td>White</td>\n",
              "      <td>https://images-na.ssl-images-amazon.com/images...</td>\n",
              "      <td>SHIRT</td>\n",
              "      <td>Women's Unique 100% Cotton T - Special Olympic...</td>\n",
              "      <td>$9.99</td>\n",
              "    </tr>\n",
              "    <tr>\n",
              "      <th>11</th>\n",
              "      <td>B001LOUGE4</td>\n",
              "      <td>Fitness Etc.</td>\n",
              "      <td>Black</td>\n",
              "      <td>https://images-na.ssl-images-amazon.com/images...</td>\n",
              "      <td>SHIRT</td>\n",
              "      <td>Ladies Cotton Tank 2x1 Ribbed Tank Top</td>\n",
              "      <td>$11.99</td>\n",
              "    </tr>\n",
              "    <tr>\n",
              "      <th>15</th>\n",
              "      <td>B003BSRPB0</td>\n",
              "      <td>FeatherLite</td>\n",
              "      <td>White</td>\n",
              "      <td>https://images-na.ssl-images-amazon.com/images...</td>\n",
              "      <td>SHIRT</td>\n",
              "      <td>FeatherLite Ladies' Moisture Free Mesh Sport S...</td>\n",
              "      <td>$20.54</td>\n",
              "    </tr>\n",
              "    <tr>\n",
              "      <th>21</th>\n",
              "      <td>B014ICEDNA</td>\n",
              "      <td>FNC7C</td>\n",
              "      <td>Purple</td>\n",
              "      <td>https://images-na.ssl-images-amazon.com/images...</td>\n",
              "      <td>SHIRT</td>\n",
              "      <td>Supernatural Chibis Sam Dean And Castiel Short...</td>\n",
              "      <td>$7.50</td>\n",
              "    </tr>\n",
              "  </tbody>\n",
              "</table>\n",
              "</div>"
            ],
            "text/plain": [
              "          asin                        brand              color  \\\n",
              "4   B004GSI2OS                  FeatherLite  Onyx Black/ Stone   \n",
              "6   B012YX2ZPI  HX-Kingdom Fashion T-shirts              White   \n",
              "11  B001LOUGE4                 Fitness Etc.              Black   \n",
              "15  B003BSRPB0                  FeatherLite              White   \n",
              "21  B014ICEDNA                        FNC7C             Purple   \n",
              "\n",
              "                                     medium_image_url product_type_name  \\\n",
              "4   https://images-na.ssl-images-amazon.com/images...             SHIRT   \n",
              "6   https://images-na.ssl-images-amazon.com/images...             SHIRT   \n",
              "11  https://images-na.ssl-images-amazon.com/images...             SHIRT   \n",
              "15  https://images-na.ssl-images-amazon.com/images...             SHIRT   \n",
              "21  https://images-na.ssl-images-amazon.com/images...             SHIRT   \n",
              "\n",
              "                                                title formatted_price  \n",
              "4   Featherlite Ladies' Long Sleeve Stain Resistan...          $26.26  \n",
              "6   Women's Unique 100% Cotton T - Special Olympic...           $9.99  \n",
              "11             Ladies Cotton Tank 2x1 Ribbed Tank Top          $11.99  \n",
              "15  FeatherLite Ladies' Moisture Free Mesh Sport S...          $20.54  \n",
              "21  Supernatural Chibis Sam Dean And Castiel Short...           $7.50  "
            ]
          },
          "metadata": {
            "tags": []
          },
          "execution_count": 16
        }
      ]
    },
    {
      "cell_type": "code",
      "metadata": {
        "colab_type": "code",
        "id": "OwqqkUJgN5WF",
        "outputId": "4e05730b-c0bf-40b5-aa31-c67191f2bdf8",
        "colab": {}
      },
      "source": [
        "# Remove All products with very few words in title\n",
        "data_sorted = data[data['title'].apply(lambda x: len(x.split())>4)]\n",
        "print(\"After removal of products with short description:\", data_sorted.shape[0])"
      ],
      "execution_count": 0,
      "outputs": [
        {
          "output_type": "stream",
          "text": [
            "After removal of products with short description: 27949\n"
          ],
          "name": "stdout"
        }
      ]
    },
    {
      "cell_type": "code",
      "metadata": {
        "colab_type": "code",
        "id": "w3CZgh80N5WK",
        "outputId": "26a4679b-a0a1-44ce-bd96-a66bb2137359",
        "colab": {}
      },
      "source": [
        "# Sort the whole data based on title (alphabetical order of title) \n",
        "data_sorted.sort_values('title',inplace=True, ascending=False)\n",
        "data_sorted.head()"
      ],
      "execution_count": 0,
      "outputs": [
        {
          "output_type": "execute_result",
          "data": {
            "text/html": [
              "<div>\n",
              "<style scoped>\n",
              "    .dataframe tbody tr th:only-of-type {\n",
              "        vertical-align: middle;\n",
              "    }\n",
              "\n",
              "    .dataframe tbody tr th {\n",
              "        vertical-align: top;\n",
              "    }\n",
              "\n",
              "    .dataframe thead th {\n",
              "        text-align: right;\n",
              "    }\n",
              "</style>\n",
              "<table border=\"1\" class=\"dataframe\">\n",
              "  <thead>\n",
              "    <tr style=\"text-align: right;\">\n",
              "      <th></th>\n",
              "      <th>asin</th>\n",
              "      <th>brand</th>\n",
              "      <th>color</th>\n",
              "      <th>medium_image_url</th>\n",
              "      <th>product_type_name</th>\n",
              "      <th>title</th>\n",
              "      <th>formatted_price</th>\n",
              "    </tr>\n",
              "  </thead>\n",
              "  <tbody>\n",
              "    <tr>\n",
              "      <th>61973</th>\n",
              "      <td>B06Y1KZ2WB</td>\n",
              "      <td>Éclair</td>\n",
              "      <td>Black/Pink</td>\n",
              "      <td>https://images-na.ssl-images-amazon.com/images...</td>\n",
              "      <td>SHIRT</td>\n",
              "      <td>Éclair Women's Printed Thin Strap Blouse Black...</td>\n",
              "      <td>$24.99</td>\n",
              "    </tr>\n",
              "    <tr>\n",
              "      <th>133820</th>\n",
              "      <td>B010RV33VE</td>\n",
              "      <td>xiaoming</td>\n",
              "      <td>Pink</td>\n",
              "      <td>https://images-na.ssl-images-amazon.com/images...</td>\n",
              "      <td>SHIRT</td>\n",
              "      <td>xiaoming Womens Sleeveless Loose Long T-shirts...</td>\n",
              "      <td>$18.19</td>\n",
              "    </tr>\n",
              "    <tr>\n",
              "      <th>81461</th>\n",
              "      <td>B01DDSDLNS</td>\n",
              "      <td>xiaoming</td>\n",
              "      <td>White</td>\n",
              "      <td>https://images-na.ssl-images-amazon.com/images...</td>\n",
              "      <td>SHIRT</td>\n",
              "      <td>xiaoming Women's White Long Sleeve Single Brea...</td>\n",
              "      <td>$21.58</td>\n",
              "    </tr>\n",
              "    <tr>\n",
              "      <th>75995</th>\n",
              "      <td>B00X5LYO9Y</td>\n",
              "      <td>xiaoming</td>\n",
              "      <td>Red Anchors</td>\n",
              "      <td>https://images-na.ssl-images-amazon.com/images...</td>\n",
              "      <td>SHIRT</td>\n",
              "      <td>xiaoming Stripes Tank Patch/Bear Sleeve Anchor...</td>\n",
              "      <td>$15.91</td>\n",
              "    </tr>\n",
              "    <tr>\n",
              "      <th>151570</th>\n",
              "      <td>B00WPJG35K</td>\n",
              "      <td>xiaoming</td>\n",
              "      <td>White</td>\n",
              "      <td>https://images-na.ssl-images-amazon.com/images...</td>\n",
              "      <td>SHIRT</td>\n",
              "      <td>xiaoming Sleeve Sheer Loose Tassel Kimono Woma...</td>\n",
              "      <td>$14.32</td>\n",
              "    </tr>\n",
              "  </tbody>\n",
              "</table>\n",
              "</div>"
            ],
            "text/plain": [
              "              asin     brand        color  \\\n",
              "61973   B06Y1KZ2WB    Éclair   Black/Pink   \n",
              "133820  B010RV33VE  xiaoming         Pink   \n",
              "81461   B01DDSDLNS  xiaoming        White   \n",
              "75995   B00X5LYO9Y  xiaoming  Red Anchors   \n",
              "151570  B00WPJG35K  xiaoming        White   \n",
              "\n",
              "                                         medium_image_url product_type_name  \\\n",
              "61973   https://images-na.ssl-images-amazon.com/images...             SHIRT   \n",
              "133820  https://images-na.ssl-images-amazon.com/images...             SHIRT   \n",
              "81461   https://images-na.ssl-images-amazon.com/images...             SHIRT   \n",
              "75995   https://images-na.ssl-images-amazon.com/images...             SHIRT   \n",
              "151570  https://images-na.ssl-images-amazon.com/images...             SHIRT   \n",
              "\n",
              "                                                    title formatted_price  \n",
              "61973   Éclair Women's Printed Thin Strap Blouse Black...          $24.99  \n",
              "133820  xiaoming Womens Sleeveless Loose Long T-shirts...          $18.19  \n",
              "81461   xiaoming Women's White Long Sleeve Single Brea...          $21.58  \n",
              "75995   xiaoming Stripes Tank Patch/Bear Sleeve Anchor...          $15.91  \n",
              "151570  xiaoming Sleeve Sheer Loose Tassel Kimono Woma...          $14.32  "
            ]
          },
          "metadata": {
            "tags": []
          },
          "execution_count": 18
        }
      ]
    },
    {
      "cell_type": "markdown",
      "metadata": {
        "colab_type": "text",
        "id": "ZNci6ckEN5WQ"
      },
      "source": [
        "#### Some examples of dupliacte titles that differ only in the last few words."
      ]
    },
    {
      "cell_type": "markdown",
      "metadata": {
        "colab_type": "text",
        "id": "8WzpmDx2N5WR"
      },
      "source": [
        "<pre>\n",
        "Titles 1:\n",
        "16. woman's place is in the house and the senate shirts for Womens XXL White\n",
        "17. woman's place is in the house and the senate shirts for Womens M Grey\n",
        "\n",
        "Title 2:\n",
        "25. tokidoki The Queen of Diamonds Women's Shirt X-Large\n",
        "26. tokidoki The Queen of Diamonds Women's Shirt Small\n",
        "27. tokidoki The Queen of Diamonds Women's Shirt Large\n",
        "\n",
        "Title 3:\n",
        "61. psychedelic colorful Howling Galaxy Wolf T-shirt/Colorful Rainbow Animal Print Head Shirt for woman Neon Wolf t-shirt\n",
        "62. psychedelic colorful Howling Galaxy Wolf T-shirt/Colorful Rainbow Animal Print Head Shirt for woman Neon Wolf t-shirt\n",
        "63. psychedelic colorful Howling Galaxy Wolf T-shirt/Colorful Rainbow Animal Print Head Shirt for woman Neon Wolf t-shirt\n",
        "64. psychedelic colorful Howling Galaxy Wolf T-shirt/Colorful Rainbow Animal Print Head Shirt for woman Neon Wolf t-shirt\n",
        "</pre>"
      ]
    },
    {
      "cell_type": "code",
      "metadata": {
        "colab_type": "code",
        "id": "1Ok8p2lgN5WT",
        "colab": {}
      },
      "source": [
        "indices = []\n",
        "for i,row in data_sorted.iterrows():\n",
        "    indices.append(i)"
      ],
      "execution_count": 0,
      "outputs": []
    },
    {
      "cell_type": "code",
      "metadata": {
        "colab_type": "code",
        "id": "si_nZNoTN5WY",
        "colab": {}
      },
      "source": [
        "import itertools\n",
        "stage1_dedupe_asins = []\n",
        "i = 0\n",
        "j = 0\n",
        "num_data_points = data_sorted.shape[0]\n",
        "while i < num_data_points and j < num_data_points:\n",
        "    \n",
        "    previous_i = i\n",
        "\n",
        "    # store the list of words of ith string in a, ex: a = ['tokidoki', 'The', 'Queen', 'of', 'Diamonds', 'Women's', 'Shirt', 'X-Large']\n",
        "    a = data['title'].loc[indices[i]].split()\n",
        "\n",
        "    # search for the similar products sequentially \n",
        "    j = i+1\n",
        "    while j < num_data_points:\n",
        "\n",
        "        # store the list of words of jth string in b, ex: b = ['tokidoki', 'The', 'Queen', 'of', 'Diamonds', 'Women's', 'Shirt', 'Small']\n",
        "        b = data['title'].loc[indices[j]].split()\n",
        "\n",
        "        # store the maximum length of two strings\n",
        "        length = max(len(a), len(b))\n",
        "\n",
        "        # count is used to store the number of words that are matched in both strings\n",
        "        count  = 0\n",
        "\n",
        "        # itertools.zip_longest(a,b): will map the corresponding words in both strings, it will appened None in case of unequal strings\n",
        "        # example: a =['a', 'b', 'c', 'd']\n",
        "        # b = ['a', 'b', 'd']\n",
        "        # itertools.zip_longest(a,b): will give [('a','a'), ('b','b'), ('c','d'), ('d', None)]\n",
        "        for k in itertools.zip_longest(a,b): \n",
        "            if (k[0] == k[1]):\n",
        "                count += 1\n",
        "\n",
        "        # if the number of words in which both strings differ are > 2 , we are considering it as those two apperals are different\n",
        "        # if the number of words in which both strings differ are < 2 , we are considering it as those two apperals are same, hence we are ignoring them\n",
        "        if (length - count) > 2: # number of words in which both sensences differ\n",
        "            # if both strings are differ by more than 2 words we include the 1st string index\n",
        "            stage1_dedupe_asins.append(data_sorted['asin'].loc[indices[i]])\n",
        "\n",
        "            # if the comaprision between is between num_data_points, num_data_points-1 strings and they differ in more than 2 words we include both\n",
        "            if j == num_data_points-1: stage1_dedupe_asins.append(data_sorted['asin'].loc[indices[j]])\n",
        "\n",
        "            # start searching for similar apperals corresponds 2nd string\n",
        "            i = j\n",
        "            break\n",
        "        else:\n",
        "            j += 1\n",
        "    if previous_i == i:\n",
        "        break"
      ],
      "execution_count": 0,
      "outputs": []
    },
    {
      "cell_type": "code",
      "metadata": {
        "colab_type": "code",
        "id": "MAfgf_CNN5Wg",
        "colab": {}
      },
      "source": [
        "data = data.loc[data['asin'].isin(stage1_dedupe_asins)]"
      ],
      "execution_count": 0,
      "outputs": []
    },
    {
      "cell_type": "markdown",
      "metadata": {
        "colab_type": "text",
        "id": "o2ufVooHN5Wl"
      },
      "source": [
        "#### We removed  the dupliactes which differ only at the end."
      ]
    },
    {
      "cell_type": "code",
      "metadata": {
        "colab_type": "code",
        "id": "9ctWdfBWN5Wn",
        "outputId": "f325d465-ce82-49bc-fe43-9bc6ad2138fb",
        "colab": {}
      },
      "source": [
        "print('Number of data points : ', data.shape[0])"
      ],
      "execution_count": 0,
      "outputs": [
        {
          "output_type": "stream",
          "text": [
            "Number of data points :  17593\n"
          ],
          "name": "stdout"
        }
      ]
    },
    {
      "cell_type": "code",
      "metadata": {
        "colab_type": "code",
        "id": "Hgm2pYUuN5Wt",
        "colab": {}
      },
      "source": [
        "data.to_pickle('pickels/17k_apperal_data')"
      ],
      "execution_count": 0,
      "outputs": []
    },
    {
      "cell_type": "markdown",
      "metadata": {
        "colab_type": "text",
        "id": "GSKThlqLN5W0"
      },
      "source": [
        "#### Remove duplicates : Part 2"
      ]
    },
    {
      "cell_type": "markdown",
      "metadata": {
        "colab_type": "text",
        "id": "UqHGzrunN5W1"
      },
      "source": [
        "<pre>\n",
        "\n",
        "In the previous cell, we sorted whole data in alphabetical order of  titles.Then, we removed titles which are adjacent and very similar title\n",
        "\n",
        "But there are some products whose titles are not adjacent but very similar.\n",
        "\n",
        "Examples:\n",
        "\n",
        "Titles-1\n",
        "86261.  UltraClub Women's Classic Wrinkle-Free Long Sleeve Oxford Shirt, Pink, XX-Large\n",
        "115042. UltraClub Ladies Classic Wrinkle-Free Long-Sleeve Oxford Light Blue XXL\n",
        "\n",
        "TItles-2\n",
        "75004.  EVALY Women's Cool University Of UTAH 3/4 Sleeve Raglan Tee\n",
        "109225. EVALY Women's Unique University Of UTAH 3/4 Sleeve Raglan Tees\n",
        "120832. EVALY Women's New University Of UTAH 3/4-Sleeve Raglan Tshirt\n",
        "\n",
        "</pre>"
      ]
    },
    {
      "cell_type": "code",
      "metadata": {
        "colab_type": "code",
        "id": "KtUSivYdN5W3",
        "colab": {}
      },
      "source": [
        "data = pd.read_pickle('pickels/17k_apperal_data')"
      ],
      "execution_count": 0,
      "outputs": []
    },
    {
      "cell_type": "code",
      "metadata": {
        "colab_type": "code",
        "id": "TFcWqm8UN5XB",
        "colab": {}
      },
      "source": [
        "# from whole previous products we will consider only \n",
        "# the products that are found in previous cell \n",
        "data = data.loc[data['asin'].isin(stage2_dedupe_asins)]"
      ],
      "execution_count": 0,
      "outputs": []
    },
    {
      "cell_type": "code",
      "metadata": {
        "id": "rIzrPC0vMLP-",
        "colab_type": "code",
        "colab": {}
      },
      "source": [
        "# This code snippet takes significant amount of time.\n",
        "# O(n^2) time.\n",
        "# Takes about an hour to run on a decent computer.\n",
        "\n",
        "indices = []\n",
        "for i,row in data.iterrows():\n",
        "    indices.append(i)\n",
        "\n",
        "stage2_dedupe_asins = []\n",
        "while len(indices)!=0:\n",
        "    i = indices.pop()\n",
        "    stage2_dedupe_asins.append(data['asin'].loc[i])\n",
        "    # consider the first apperal's title\n",
        "    a = data['title'].loc[i].split()\n",
        "    # store the list of words of ith string in a, ex: a = ['tokidoki', 'The', 'Queen', 'of', 'Diamonds', 'Women's', 'Shirt', 'X-Large']\n",
        "    for j in indices:\n",
        "        \n",
        "        b = data['title'].loc[j].split()\n",
        "        # store the list of words of jth string in b, ex: b = ['tokidoki', 'The', 'Queen', 'of', 'Diamonds', 'Women's', 'Shirt', 'X-Large']\n",
        "        \n",
        "        length = max(len(a),len(b))\n",
        "        \n",
        "        # count is used to store the number of words that are matched in both strings\n",
        "        count  = 0\n",
        "\n",
        "        # itertools.zip_longest(a,b): will map the corresponding words in both strings, it will appened None in case of unequal strings\n",
        "        # example: a =['a', 'b', 'c', 'd']\n",
        "        # b = ['a', 'b', 'd']\n",
        "        # itertools.zip_longest(a,b): will give [('a','a'), ('b','b'), ('c','d'), ('d', None)]\n",
        "        for k in itertools.zip_longest(a,b): \n",
        "            if (k[0]==k[1]):\n",
        "                count += 1\n",
        "\n",
        "        # if the number of words in which both strings differ are < 3 , we are considering it as those two apperals are same, hence we are ignoring them\n",
        "        if (length - count) < 3:\n",
        "            indices.remove(j)"
      ],
      "execution_count": 0,
      "outputs": []
    },
    {
      "cell_type": "code",
      "metadata": {
        "colab_type": "code",
        "id": "PB1QHpXAN5XE",
        "outputId": "62e3fc1a-2828-45da-ca2c-638be66a915d",
        "colab": {}
      },
      "source": [
        "print('Number of data points after stage two of dedupe: ',data.shape[0])\n",
        "# from 17k apperals we reduced to 16k apperals"
      ],
      "execution_count": 0,
      "outputs": [
        {
          "output_type": "stream",
          "text": [
            "Number of data points after stage two of dedupe:  16042\n"
          ],
          "name": "stdout"
        }
      ]
    },
    {
      "cell_type": "code",
      "metadata": {
        "colab_type": "code",
        "id": "ImuDyQs5N5XO",
        "colab": {}
      },
      "source": [
        "data.to_pickle('pickels/16k_apperal_data')\n",
        "# Storing these products in a pickle file\n",
        "# candidates who wants to download these files instead \n",
        "# of 180K they can download and use them from the Google Drive folder."
      ],
      "execution_count": 0,
      "outputs": []
    },
    {
      "cell_type": "markdown",
      "metadata": {
        "colab_type": "text",
        "id": "CtvnBLTYN5XS"
      },
      "source": [
        "# Text pre-processing"
      ]
    },
    {
      "cell_type": "code",
      "metadata": {
        "colab_type": "code",
        "id": "T6oCATyfN5XT",
        "colab": {}
      },
      "source": [
        "data = pd.read_pickle('16k_apperal_data')\n"
      ],
      "execution_count": 0,
      "outputs": []
    },
    {
      "cell_type": "code",
      "metadata": {
        "colab_type": "code",
        "id": "MfVaQnE1N5XW",
        "outputId": "7d2b1e83-f377-44b8-a638-f68ff9450a30",
        "colab": {}
      },
      "source": [
        "# we use the list of stop words that are downloaded from nltk lib.\n",
        "stop_words = set(stopwords.words('english'))\n",
        "print ('list of stop words:', stop_words)\n",
        "\n",
        "def nlp_preprocessing(total_text, index, column):\n",
        "    if type(total_text) is not int:\n",
        "        string = \"\"\n",
        "        for words in total_text.split():\n",
        "            # remove the special chars in review like '\"#$@!%^&*()_+-~?>< etc.\n",
        "            word = (\"\".join(e for e in words if e.isalnum()))\n",
        "            # Conver all letters to lower-case\n",
        "            word = word.lower()\n",
        "            # stop-word removal\n",
        "            if not word in stop_words:\n",
        "                string += word + \" \"\n",
        "        data[column][index] = string"
      ],
      "execution_count": 0,
      "outputs": [
        {
          "output_type": "stream",
          "text": [
            "list of stop words: {'they', 'too', 'me', 'other', 'doesn', 'i', 'be', 'ours', 'my', 'further', 'himself', 'had', 'after', 'these', 'any', 'will', 'but', \"you'd\", 'hasn', 'doing', 'down', 'few', 'yourself', 'when', 'an', \"didn't\", 'because', \"haven't\", 'couldn', 'theirs', 'no', 'very', 'before', \"you'll\", 'yours', \"mightn't\", 'am', 'between', 'above', 'below', 'same', 'both', 'during', 'should', 'is', 'can', 'mightn', 'been', 'we', 'more', 'against', 'its', 'has', 'do', 'most', 'or', 'won', 'only', 'were', 'don', \"hasn't\", \"weren't\", \"won't\", 'here', 'then', 'into', 'didn', \"mustn't\", 'now', 'this', 'she', 'so', 'myself', 'whom', 'just', \"she's\", 'our', 'aren', 'ourselves', 'why', 'ain', 'how', 'ma', 'wasn', 'them', 's', 'her', 'as', \"aren't\", \"don't\", 'themselves', 'll', 'are', 'shouldn', \"wouldn't\", 'nor', 'o', \"you're\", 'herself', 'your', 'through', 'did', 'haven', 'from', 'than', \"hadn't\", 'their', 'own', 'such', 'who', 've', 'once', 'hadn', 'mustn', 'what', 'wouldn', 'it', \"you've\", 't', 'while', 'does', 'that', 'on', 'have', 'until', 'each', 'hers', \"isn't\", 'having', 'some', 'was', 'to', 'in', 'd', 'm', 'off', 'at', 'y', 'there', 'you', \"needn't\", 'being', 'which', 'weren', 'out', \"shan't\", 'a', 'up', 'yourselves', 'the', 'for', 'shan', \"wasn't\", 'him', 'those', 'his', 'by', \"that'll\", \"doesn't\", \"should've\", 'under', 'of', 'with', \"it's\", 'again', 'needn', 'about', 'not', 'if', 'over', 'and', 'itself', 'where', 'all', \"couldn't\", 're', 'he', \"shouldn't\", 'isn'}\n"
          ],
          "name": "stdout"
        }
      ]
    },
    {
      "cell_type": "code",
      "metadata": {
        "colab_type": "code",
        "id": "uZx2azSaN5Xb",
        "outputId": "b272de94-7434-429d-8180-cf452e607603",
        "colab": {}
      },
      "source": [
        "start_time = time.clock()\n",
        "# we take each title and we text-preprocess it.\n",
        "for index, row in data.iterrows():\n",
        "    nlp_preprocessing(row['title'], index, 'title')\n",
        "# we print the time it took to preprocess whole titles \n",
        "print(time.clock() - start_time, \"seconds\")"
      ],
      "execution_count": 0,
      "outputs": [
        {
          "output_type": "stream",
          "text": [
            "3.5727220000000006 seconds\n"
          ],
          "name": "stdout"
        }
      ]
    },
    {
      "cell_type": "code",
      "metadata": {
        "colab_type": "code",
        "id": "JqKJFtlPN5Xg",
        "outputId": "479a52c7-6fd5-4bde-808a-5451ce88f166",
        "colab": {}
      },
      "source": [
        "data.head()"
      ],
      "execution_count": 0,
      "outputs": [
        {
          "output_type": "execute_result",
          "data": {
            "text/html": [
              "<div>\n",
              "<style>\n",
              "    .dataframe thead tr:only-child th {\n",
              "        text-align: right;\n",
              "    }\n",
              "\n",
              "    .dataframe thead th {\n",
              "        text-align: left;\n",
              "    }\n",
              "\n",
              "    .dataframe tbody tr th {\n",
              "        vertical-align: top;\n",
              "    }\n",
              "</style>\n",
              "<table border=\"1\" class=\"dataframe\">\n",
              "  <thead>\n",
              "    <tr style=\"text-align: right;\">\n",
              "      <th></th>\n",
              "      <th>asin</th>\n",
              "      <th>brand</th>\n",
              "      <th>color</th>\n",
              "      <th>medium_image_url</th>\n",
              "      <th>product_type_name</th>\n",
              "      <th>title</th>\n",
              "      <th>formatted_price</th>\n",
              "    </tr>\n",
              "  </thead>\n",
              "  <tbody>\n",
              "    <tr>\n",
              "      <th>4</th>\n",
              "      <td>B004GSI2OS</td>\n",
              "      <td>FeatherLite</td>\n",
              "      <td>Onyx Black/ Stone</td>\n",
              "      <td>https://images-na.ssl-images-amazon.com/images...</td>\n",
              "      <td>SHIRT</td>\n",
              "      <td>featherlite ladies long sleeve stain resistant...</td>\n",
              "      <td>$26.26</td>\n",
              "    </tr>\n",
              "    <tr>\n",
              "      <th>6</th>\n",
              "      <td>B012YX2ZPI</td>\n",
              "      <td>HX-Kingdom Fashion T-shirts</td>\n",
              "      <td>White</td>\n",
              "      <td>https://images-na.ssl-images-amazon.com/images...</td>\n",
              "      <td>SHIRT</td>\n",
              "      <td>womens unique 100 cotton  special olympics wor...</td>\n",
              "      <td>$9.99</td>\n",
              "    </tr>\n",
              "    <tr>\n",
              "      <th>15</th>\n",
              "      <td>B003BSRPB0</td>\n",
              "      <td>FeatherLite</td>\n",
              "      <td>White</td>\n",
              "      <td>https://images-na.ssl-images-amazon.com/images...</td>\n",
              "      <td>SHIRT</td>\n",
              "      <td>featherlite ladies moisture free mesh sport sh...</td>\n",
              "      <td>$20.54</td>\n",
              "    </tr>\n",
              "    <tr>\n",
              "      <th>27</th>\n",
              "      <td>B014ICEJ1Q</td>\n",
              "      <td>FNC7C</td>\n",
              "      <td>Purple</td>\n",
              "      <td>https://images-na.ssl-images-amazon.com/images...</td>\n",
              "      <td>SHIRT</td>\n",
              "      <td>supernatural chibis sam dean castiel neck tshi...</td>\n",
              "      <td>$7.39</td>\n",
              "    </tr>\n",
              "    <tr>\n",
              "      <th>46</th>\n",
              "      <td>B01NACPBG2</td>\n",
              "      <td>Fifth Degree</td>\n",
              "      <td>Black</td>\n",
              "      <td>https://images-na.ssl-images-amazon.com/images...</td>\n",
              "      <td>SHIRT</td>\n",
              "      <td>fifth degree womens gold foil graphic tees jun...</td>\n",
              "      <td>$6.95</td>\n",
              "    </tr>\n",
              "  </tbody>\n",
              "</table>\n",
              "</div>"
            ],
            "text/plain": [
              "          asin                        brand              color  \\\n",
              "4   B004GSI2OS                  FeatherLite  Onyx Black/ Stone   \n",
              "6   B012YX2ZPI  HX-Kingdom Fashion T-shirts              White   \n",
              "15  B003BSRPB0                  FeatherLite              White   \n",
              "27  B014ICEJ1Q                        FNC7C             Purple   \n",
              "46  B01NACPBG2                 Fifth Degree              Black   \n",
              "\n",
              "                                     medium_image_url product_type_name  \\\n",
              "4   https://images-na.ssl-images-amazon.com/images...             SHIRT   \n",
              "6   https://images-na.ssl-images-amazon.com/images...             SHIRT   \n",
              "15  https://images-na.ssl-images-amazon.com/images...             SHIRT   \n",
              "27  https://images-na.ssl-images-amazon.com/images...             SHIRT   \n",
              "46  https://images-na.ssl-images-amazon.com/images...             SHIRT   \n",
              "\n",
              "                                                title formatted_price  \n",
              "4   featherlite ladies long sleeve stain resistant...          $26.26  \n",
              "6   womens unique 100 cotton  special olympics wor...           $9.99  \n",
              "15  featherlite ladies moisture free mesh sport sh...          $20.54  \n",
              "27  supernatural chibis sam dean castiel neck tshi...           $7.39  \n",
              "46  fifth degree womens gold foil graphic tees jun...           $6.95  "
            ]
          },
          "metadata": {
            "tags": []
          },
          "execution_count": 6
        }
      ]
    },
    {
      "cell_type": "code",
      "metadata": {
        "colab_type": "code",
        "id": "qRuf7IDSN5Xn",
        "colab": {}
      },
      "source": [
        "data.to_pickle('pickels/16k_apperal_data_preprocessed')"
      ],
      "execution_count": 0,
      "outputs": []
    },
    {
      "cell_type": "markdown",
      "metadata": {
        "colab_type": "text",
        "id": "smDFXz1TN5Xv"
      },
      "source": [
        "# Text based product similarity"
      ]
    },
    {
      "cell_type": "code",
      "metadata": {
        "colab_type": "code",
        "id": "16IykU0bN5Xw",
        "outputId": "6411e7c1-ec26-4028-ab44-7e0a2382e0ad",
        "colab": {}
      },
      "source": [
        "data = pd.read_pickle('16k_apperal_data_preprocessed')\n",
        "data.head()"
      ],
      "execution_count": 0,
      "outputs": [
        {
          "output_type": "execute_result",
          "data": {
            "text/html": [
              "<div>\n",
              "<style scoped>\n",
              "    .dataframe tbody tr th:only-of-type {\n",
              "        vertical-align: middle;\n",
              "    }\n",
              "\n",
              "    .dataframe tbody tr th {\n",
              "        vertical-align: top;\n",
              "    }\n",
              "\n",
              "    .dataframe thead th {\n",
              "        text-align: right;\n",
              "    }\n",
              "</style>\n",
              "<table border=\"1\" class=\"dataframe\">\n",
              "  <thead>\n",
              "    <tr style=\"text-align: right;\">\n",
              "      <th></th>\n",
              "      <th>asin</th>\n",
              "      <th>brand</th>\n",
              "      <th>color</th>\n",
              "      <th>medium_image_url</th>\n",
              "      <th>product_type_name</th>\n",
              "      <th>title</th>\n",
              "      <th>formatted_price</th>\n",
              "    </tr>\n",
              "  </thead>\n",
              "  <tbody>\n",
              "    <tr>\n",
              "      <th>4</th>\n",
              "      <td>B004GSI2OS</td>\n",
              "      <td>FeatherLite</td>\n",
              "      <td>Onyx Black/ Stone</td>\n",
              "      <td>https://images-na.ssl-images-amazon.com/images...</td>\n",
              "      <td>SHIRT</td>\n",
              "      <td>featherlite ladies long sleeve stain resistant...</td>\n",
              "      <td>$26.26</td>\n",
              "    </tr>\n",
              "    <tr>\n",
              "      <th>6</th>\n",
              "      <td>B012YX2ZPI</td>\n",
              "      <td>HX-Kingdom Fashion T-shirts</td>\n",
              "      <td>White</td>\n",
              "      <td>https://images-na.ssl-images-amazon.com/images...</td>\n",
              "      <td>SHIRT</td>\n",
              "      <td>womens unique 100 cotton  special olympics wor...</td>\n",
              "      <td>$9.99</td>\n",
              "    </tr>\n",
              "    <tr>\n",
              "      <th>15</th>\n",
              "      <td>B003BSRPB0</td>\n",
              "      <td>FeatherLite</td>\n",
              "      <td>White</td>\n",
              "      <td>https://images-na.ssl-images-amazon.com/images...</td>\n",
              "      <td>SHIRT</td>\n",
              "      <td>featherlite ladies moisture free mesh sport sh...</td>\n",
              "      <td>$20.54</td>\n",
              "    </tr>\n",
              "    <tr>\n",
              "      <th>27</th>\n",
              "      <td>B014ICEJ1Q</td>\n",
              "      <td>FNC7C</td>\n",
              "      <td>Purple</td>\n",
              "      <td>https://images-na.ssl-images-amazon.com/images...</td>\n",
              "      <td>SHIRT</td>\n",
              "      <td>supernatural chibis sam dean castiel neck tshi...</td>\n",
              "      <td>$7.39</td>\n",
              "    </tr>\n",
              "    <tr>\n",
              "      <th>46</th>\n",
              "      <td>B01NACPBG2</td>\n",
              "      <td>Fifth Degree</td>\n",
              "      <td>Black</td>\n",
              "      <td>https://images-na.ssl-images-amazon.com/images...</td>\n",
              "      <td>SHIRT</td>\n",
              "      <td>fifth degree womens gold foil graphic tees jun...</td>\n",
              "      <td>$6.95</td>\n",
              "    </tr>\n",
              "  </tbody>\n",
              "</table>\n",
              "</div>"
            ],
            "text/plain": [
              "          asin                        brand              color  \\\n",
              "4   B004GSI2OS                  FeatherLite  Onyx Black/ Stone   \n",
              "6   B012YX2ZPI  HX-Kingdom Fashion T-shirts              White   \n",
              "15  B003BSRPB0                  FeatherLite              White   \n",
              "27  B014ICEJ1Q                        FNC7C             Purple   \n",
              "46  B01NACPBG2                 Fifth Degree              Black   \n",
              "\n",
              "                                     medium_image_url product_type_name  \\\n",
              "4   https://images-na.ssl-images-amazon.com/images...             SHIRT   \n",
              "6   https://images-na.ssl-images-amazon.com/images...             SHIRT   \n",
              "15  https://images-na.ssl-images-amazon.com/images...             SHIRT   \n",
              "27  https://images-na.ssl-images-amazon.com/images...             SHIRT   \n",
              "46  https://images-na.ssl-images-amazon.com/images...             SHIRT   \n",
              "\n",
              "                                                title formatted_price  \n",
              "4   featherlite ladies long sleeve stain resistant...          $26.26  \n",
              "6   womens unique 100 cotton  special olympics wor...           $9.99  \n",
              "15  featherlite ladies moisture free mesh sport sh...          $20.54  \n",
              "27  supernatural chibis sam dean castiel neck tshi...           $7.39  \n",
              "46  fifth degree womens gold foil graphic tees jun...           $6.95  "
            ]
          },
          "metadata": {
            "tags": []
          },
          "execution_count": 33
        }
      ]
    },
    {
      "cell_type": "code",
      "metadata": {
        "colab_type": "code",
        "id": "D8fSKXNKN5X1",
        "colab": {}
      },
      "source": [
        "#Display an image\n",
        "import PIL.Image\n",
        "def display_img(url,ax,fig):\n",
        "    # we get the url of the apparel and download it\n",
        "    response = requests.get(url)\n",
        "    img = PIL.Image.open(BytesIO(response.content))\n",
        "    # we will display it in notebook \n",
        "    plt.imshow(img)\n",
        "  \n",
        "#plotting code to understand the algorithm's decision.\n",
        "def plot_heatmap(keys, values, labels, url, text):\n",
        "        # keys: list of words of recommended title\n",
        "        # values: len(values) ==  len(keys), values(i) represents the occurence of the word keys(i)\n",
        "        # labels: len(labels) == len(keys), the values of labels depends on the model we are using\n",
        "                # if model == 'bag of words': labels(i) = values(i)\n",
        "                # if model == 'tfidf weighted bag of words':labels(i) = tfidf(keys(i))\n",
        "                # if model == 'idf weighted bag of words':labels(i) = idf(keys(i))\n",
        "        # url : apparel's url\n",
        "\n",
        "        # we will devide the whole figure into two parts\n",
        "        gs = gridspec.GridSpec(2, 2, width_ratios=[4,1], height_ratios=[4,1]) \n",
        "        fig = plt.figure(figsize=(25,3))\n",
        "        \n",
        "        # 2nd, plotting image of the the apparel\n",
        "        ax = plt.subplot(gs[1])\n",
        "        # we don't want any grid lines for image and no labels on x-axis and y-axis\n",
        "        ax.grid(False)\n",
        "        ax.set_xticks([])\n",
        "        ax.set_yticks([])\n",
        "        \n",
        "        # we call dispaly_img based with paramete url\n",
        "        display_img(url, ax, fig)\n",
        "        \n",
        "        # displays combine figure ( heat map and image together)\n",
        "        plt.show()\n",
        "    \n",
        "def plot_heatmap_image(doc_id, vec1, vec2, url, text, model):\n",
        "    elif model == 'idf':\n",
        "        labels = []\n",
        "        for x in vec2.keys():\n",
        "            # idf_title_vectorizer.vocabulary_ it contains all the words in the corpus\n",
        "            # idf_title_features[doc_id, index_of_word_in_corpus] will give the idf value of word in given document (doc_id)\n",
        "            if x in  idf_title_vectorizer.vocabulary_:\n",
        "                labels.append(idf_title_features[doc_id, idf_title_vectorizer.vocabulary_[x]])\n",
        "            else:\n",
        "                labels.append(0)\n",
        "    plot_heatmap(keys, values, labels, url, text)\n",
        "\n",
        "\n",
        "# this function gets a list of wrods along with the frequency of each \n",
        "# word given \"text\"\n",
        "def text_to_vector(text):\n",
        "    word = re.compile(r'\\w+')\n",
        "    words = word.findall(text)\n",
        "    # words stores list of all words in given string, you can try 'words = text.split()' this will also gives same result\n",
        "    return Counter(words) # Counter counts the occurence of each word in list, it returns dict type object {word1:count}\n",
        "\n",
        "\n",
        "def get_result(doc_id, content_a, content_b, url, model):\n",
        "    text1 = content_a\n",
        "    text2 = content_b\n",
        "    \n",
        "    # vector1 = dict{word11:#count, word12:#count, etc.}\n",
        "    vector1 = text_to_vector(text1)\n",
        "\n",
        "    # vector1 = dict{word21:#count, word22:#count, etc.}\n",
        "    vector2 = text_to_vector(text2)\n",
        "\n",
        "    plot_heatmap_image(doc_id, vector1, vector2, url, text2, model)"
      ],
      "execution_count": 0,
      "outputs": []
    },
    {
      "cell_type": "markdown",
      "metadata": {
        "colab_type": "text",
        "id": "T-Q45PWUN5YK"
      },
      "source": [
        "## Extracting Features : title(IDF)"
      ]
    },
    {
      "cell_type": "code",
      "metadata": {
        "colab_type": "code",
        "id": "AoMyiPpbN5YO",
        "colab": {}
      },
      "source": [
        "idf_title_vectorizer = CountVectorizer()\n",
        "idf_title_features = idf_title_vectorizer.fit_transform(data['title'])\n",
        "\n",
        "# idf_title_features.shape = #data_points * #words_in_corpus\n",
        "# CountVectorizer().fit_transform(courpus) returns the a sparase matrix of dimensions #data_points * #words_in_corpus\n",
        "# idf_title_features[doc_id, index_of_word_in_corpus] = number of times the word occured in that doc"
      ],
      "execution_count": 0,
      "outputs": []
    },
    {
      "cell_type": "code",
      "metadata": {
        "colab_type": "code",
        "id": "N9nBYwOmN5YS",
        "colab": {}
      },
      "source": [
        "def n_containing(word):\n",
        "    # return the number of documents which had the given word\n",
        "    return sum(1 for blob in data['title'] if word in blob.split())\n",
        "\n",
        "def idf(word):\n",
        "    # idf = log(#number of docs / #number of docs which had the given word)\n",
        "    return math.log(data.shape[0] / (n_containing(word)))"
      ],
      "execution_count": 0,
      "outputs": []
    },
    {
      "cell_type": "code",
      "metadata": {
        "colab_type": "code",
        "id": "BEH_7rHQN5YV",
        "colab": {}
      },
      "source": [
        "# we need to convert the values into float\n",
        "idf_title_features  = idf_title_features.astype(np.float)\n",
        "\n",
        "for i in idf_title_vectorizer.vocabulary_.keys():\n",
        "    # for every word in whole corpus we will find its idf value\n",
        "    idf_val = idf(i)\n",
        "    \n",
        "    # to calculate idf_title_features we need to replace the count values with the idf values of the word\n",
        "    # idf_title_features[:, idf_title_vectorizer.vocabulary_[i]].nonzero()[0] will return all documents in which the word i present\n",
        "    for j in idf_title_features[:, idf_title_vectorizer.vocabulary_[i]].nonzero()[0]:\n",
        "        \n",
        "        # we replace the count values of word i in document j with  idf_value of word i \n",
        "        # idf_title_features[doc_id, index_of_word_in_courpus] = idf value of word\n",
        "        idf_title_features[j,idf_title_vectorizer.vocabulary_[i]] = idf_val\n",
        "        "
      ],
      "execution_count": 0,
      "outputs": []
    },
    {
      "cell_type": "markdown",
      "metadata": {
        "colab_type": "text",
        "id": "u5CQeoxZN5Y-"
      },
      "source": [
        "###  Extracting features: brand and color."
      ]
    },
    {
      "cell_type": "code",
      "metadata": {
        "colab_type": "code",
        "id": "m2NbzPgEN5Y_",
        "colab": {}
      },
      "source": [
        "# some of the brand values are empty. \n",
        "# Need to replace Null with string \"NULL\"\n",
        "data['brand'].fillna(value=\"Not given\", inplace=True )\n",
        "\n",
        "# replace spaces with hypen\n",
        "brands = [x.replace(\" \", \"-\") for x in data['brand'].values]\n",
        "types = [x.replace(\" \", \"-\") for x in data['product_type_name'].values]\n",
        "colors = [x.replace(\" \", \"-\") for x in data['color'].values]\n",
        "\n",
        "brand_vectorizer = CountVectorizer()\n",
        "brand_features = brand_vectorizer.fit_transform(brands)\n",
        "\n",
        "type_vectorizer = CountVectorizer()\n",
        "type_features = type_vectorizer.fit_transform(types)\n",
        "\n",
        "color_vectorizer = CountVectorizer()\n",
        "color_features = color_vectorizer.fit_transform(colors)\n",
        "\n",
        "extra_features = hstack((brand_features, type_features, color_features)).tocsr()"
      ],
      "execution_count": 0,
      "outputs": []
    },
    {
      "cell_type": "markdown",
      "metadata": {
        "colab_type": "text",
        "id": "QUfr1LITN5Zd"
      },
      "source": [
        "# Visual features based product similarity."
      ]
    },
    {
      "cell_type": "code",
      "metadata": {
        "colab_type": "code",
        "id": "r9pPK6-TN5Zh",
        "colab": {}
      },
      "source": [
        "#load the features and corresponding ASINS info.\n",
        "bottleneck_features_train = np.load('16k_data_cnn_features.npy')\n",
        "asins = np.load('16k_data_cnn_feature_asins.npy')\n",
        "asins = list(asins)\n",
        "\n",
        "# load the original 16K dataset\n",
        "data = pd.read_pickle('16k_apperal_data_preprocessed')\n",
        "df_asins = list(data['asin'])"
      ],
      "execution_count": 0,
      "outputs": []
    },
    {
      "cell_type": "markdown",
      "metadata": {
        "id": "hFMRJF4HMLSb",
        "colab_type": "text"
      },
      "source": [
        "### Query Data:"
      ]
    },
    {
      "cell_type": "code",
      "metadata": {
        "id": "aHCPoNrnMLSc",
        "colab_type": "code",
        "colab": {},
        "outputId": "3681a143-0a15-40b3-ac9c-79a2f20a7e52"
      },
      "source": [
        "data.iloc[12566]"
      ],
      "execution_count": 0,
      "outputs": [
        {
          "output_type": "execute_result",
          "data": {
            "text/plain": [
              "asin                                                        B00JXQB5FQ\n",
              "brand                                                           Si Row\n",
              "color                                                            Brown\n",
              "medium_image_url     https://images-na.ssl-images-amazon.com/images...\n",
              "product_type_name                                       TOYS_AND_GAMES\n",
              "title                  burnt umber tiger tshirt zebra stripes xl  xxl \n",
              "formatted_price                                                 $19.61\n",
              "Name: 142055, dtype: object"
            ]
          },
          "metadata": {
            "tags": []
          },
          "execution_count": 71
        }
      ]
    },
    {
      "cell_type": "code",
      "metadata": {
        "id": "LTtTMmSQMLSk",
        "colab_type": "code",
        "colab": {},
        "outputId": "3381b3d6-112c-48fc-fbdf-3eef4590688a"
      },
      "source": [
        "display(Image(url=data.iloc[12566].medium_image_url, embed=True))"
      ],
      "execution_count": 0,
      "outputs": [
        {
          "output_type": "display_data",
          "data": {
            "image/jpeg": "[encoded data removed]",
            "text/plain": [
              "<IPython.core.display.Image object>"
            ]
          },
          "metadata": {
            "tags": []
          }
        }
      ]
    },
    {
      "cell_type": "markdown",
      "metadata": {
        "id": "XqlFO7wyMLSp",
        "colab_type": "text"
      },
      "source": [
        "### Recommendations:"
      ]
    },
    {
      "cell_type": "code",
      "metadata": {
        "colab_type": "code",
        "id": "Xu19_u6YN5ZF",
        "outputId": "6ab81b74-85a7-46a2-c75e-babbb93e0fa3",
        "scrolled": false,
        "colab": {}
      },
      "source": [
        "from IPython.display import display, Image, SVG, Math, YouTubeVideo\n",
        "import PIL.Image\n",
        "def title_brand_colour_image_weighted(doc_id, w1, w2, w3,num_results):\n",
        "    idf_w2v_dist  = pairwise_distances(idf_title_features,idf_title_features[doc_id])\n",
        "    ex_feat_dist = pairwise_distances(extra_features, extra_features[doc_id])\n",
        "    image_feat_dist=pairwise_distances(bottleneck_features_train, bottleneck_features_train[doc_id].reshape(1,-1))\n",
        "    pairwise_dist   = (w1 * idf_w2v_dist +  w2 * ex_feat_dist+w3*image_feat_dist)/float(w1 + w2+w3)\n",
        "\n",
        "    # np.argsort will return indices of 9 smallest distances\n",
        "    indices = np.argsort(pairwise_dist.flatten())[0:num_results]\n",
        "    #pdists will store the 9 smallest distances\n",
        "    pdists  = np.sort(pairwise_dist.flatten())[0:num_results]\n",
        "\n",
        "    #data frame indices of the 9 smallest distace's\n",
        "    df_indices = list(data.index[indices])\n",
        "    \n",
        "\n",
        "    for i in range(1,len(indices)):\n",
        "        get_result(indices[i],data['title'].loc[df_indices[0]], data['title'].loc[df_indices[i]], data['medium_image_url'].loc[df_indices[i]], 'idf')\n",
        "        print('TITLE:',data['title'].loc[df_indices[i]])\n",
        "        print('ASIN :',data['asin'].loc[df_indices[i]])\n",
        "        print('Brand :',data['brand'].loc[df_indices[i]])\n",
        "        print ('euclidean distance from the given image :', pdists[i])\n",
        "        print('='*125)\n",
        "\n",
        "title_brand_colour_image_weighted(12566, 10, 2,5, 20)\n",
        "# in the give heat map, each cell contains the euclidean distance between words i, j"
      ],
      "execution_count": 0,
      "outputs": [
        {
          "output_type": "display_data",
          "data": {
            "image/png": "[encoded data removed]",
            "text/plain": [
              "<Figure size 1800x216 with 1 Axes>"
            ]
          },
          "metadata": {
            "tags": []
          }
        },
        {
          "output_type": "stream",
          "text": [
            "TITLE: pink tiger tshirt zebra stripes xl  xxl \n",
            "ASIN : B00JXQASS6\n",
            "Brand : Si Row\n",
            "euclidean distance from the given image : 1.7320508075688772\n",
            "=============================================================================================================================\n"
          ],
          "name": "stdout"
        },
        {
          "output_type": "display_data",
          "data": {
            "image/png": "[encoded data removed]",
            "text/plain": [
              "<Figure size 1800x216 with 1 Axes>"
            ]
          },
          "metadata": {
            "tags": []
          }
        },
        {
          "output_type": "stream",
          "text": [
            "TITLE: brown  white tiger tshirt tiger stripes xl  xxl \n",
            "ASIN : B00JXQCWTO\n",
            "Brand : Si Row\n",
            "euclidean distance from the given image : 2.449489742783178\n",
            "=============================================================================================================================\n"
          ],
          "name": "stdout"
        },
        {
          "output_type": "display_data",
          "data": {
            "image/png": "[encoded data removed]",
            "text/plain": [
              "<Figure size 1800x216 with 1 Axes>"
            ]
          },
          "metadata": {
            "tags": []
          }
        },
        {
          "output_type": "stream",
          "text": [
            "TITLE: yellow tiger tshirt tiger stripes  l \n",
            "ASIN : B00JXQCUIC\n",
            "Brand : Si Row\n",
            "euclidean distance from the given image : 2.6457513110645907\n",
            "=============================================================================================================================\n"
          ],
          "name": "stdout"
        },
        {
          "output_type": "display_data",
          "data": {
            "image/png": "[encoded data removed]",
            "text/plain": [
              "<Figure size 1800x216 with 1 Axes>"
            ]
          },
          "metadata": {
            "tags": []
          }
        },
        {
          "output_type": "stream",
          "text": [
            "TITLE: believed could tshirt \n",
            "ASIN : B07568NZX4\n",
            "Brand : Rustic Grace\n",
            "euclidean distance from the given image : 3.0\n",
            "=============================================================================================================================\n"
          ],
          "name": "stdout"
        },
        {
          "output_type": "display_data",
          "data": {
            "image/png": "[encoded data removed]",
            "text/plain": [
              "<Figure size 1800x216 with 1 Axes>"
            ]
          },
          "metadata": {
            "tags": []
          }
        },
        {
          "output_type": "stream",
          "text": [
            "TITLE: ideology graphic tshirt xl white \n",
            "ASIN : B01NB0NKRO\n",
            "Brand : Ideology\n",
            "euclidean distance from the given image : 3.0\n",
            "=============================================================================================================================\n"
          ],
          "name": "stdout"
        },
        {
          "output_type": "display_data",
          "data": {
            "image/png": "[encoded data removed]",
            "text/plain": [
              "<Figure size 1800x216 with 1 Axes>"
            ]
          },
          "metadata": {
            "tags": []
          }
        },
        {
          "output_type": "stream",
          "text": [
            "TITLE: grey  white tiger tank top tiger stripes xl  xxl \n",
            "ASIN : B00JXQAFZ2\n",
            "Brand : Si Row\n",
            "euclidean distance from the given image : 3.0\n",
            "=============================================================================================================================\n"
          ],
          "name": "stdout"
        },
        {
          "output_type": "display_data",
          "data": {
            "image/png": "[encoded data removed]",
            "text/plain": [
              "<Figure size 1800x216 with 1 Axes>"
            ]
          },
          "metadata": {
            "tags": []
          }
        },
        {
          "output_type": "stream",
          "text": [
            "TITLE: morning person tshirt  troll picture  xl \n",
            "ASIN : B01CLS8LMW\n",
            "Brand : Awake\n",
            "euclidean distance from the given image : 3.1622776601683795\n",
            "=============================================================================================================================\n"
          ],
          "name": "stdout"
        },
        {
          "output_type": "display_data",
          "data": {
            "image/png": "[encoded data removed]",
            "text/plain": [
              "<Figure size 1800x216 with 1 Axes>"
            ]
          },
          "metadata": {
            "tags": []
          }
        },
        {
          "output_type": "stream",
          "text": [
            "TITLE: merona green gold stripes \n",
            "ASIN : B01KVZUB6G\n",
            "Brand : Merona\n",
            "euclidean distance from the given image : 3.1622776601683795\n",
            "=============================================================================================================================\n"
          ],
          "name": "stdout"
        },
        {
          "output_type": "display_data",
          "data": {
            "image/png": "[encoded data removed]",
            "text/plain": [
              "<Figure size 1800x216 with 1 Axes>"
            ]
          },
          "metadata": {
            "tags": []
          }
        },
        {
          "output_type": "stream",
          "text": [
            "TITLE: blvd womens graphic tshirt l \n",
            "ASIN : B0733R2CJK\n",
            "Brand : BLVD\n",
            "euclidean distance from the given image : 3.1622776601683795\n",
            "=============================================================================================================================\n"
          ],
          "name": "stdout"
        },
        {
          "output_type": "display_data",
          "data": {
            "image/png": "[encoded data removed]",
            "text/plain": [
              "<Figure size 1800x216 with 1 Axes>"
            ]
          },
          "metadata": {
            "tags": []
          }
        },
        {
          "output_type": "stream",
          "text": [
            "TITLE: km tiger printed sleeveless vest tshirt \n",
            "ASIN : B012VQLT6Y\n",
            "Brand : KM T-shirt\n",
            "euclidean distance from the given image : 3.1622776601683795\n",
            "=============================================================================================================================\n"
          ],
          "name": "stdout"
        },
        {
          "output_type": "display_data",
          "data": {
            "image/png": "[encoded data removed]",
            "text/plain": [
              "<Figure size 1800x216 with 1 Axes>"
            ]
          },
          "metadata": {
            "tags": []
          }
        },
        {
          "output_type": "stream",
          "text": [
            "TITLE: blue peacock print tshirt  l \n",
            "ASIN : B00JXQC8L6\n",
            "Brand : Si Row\n",
            "euclidean distance from the given image : 3.1622776601683795\n",
            "=============================================================================================================================\n"
          ],
          "name": "stdout"
        },
        {
          "output_type": "display_data",
          "data": {
            "image/png": "[encoded data removed]",
            "text/plain": [
              "<Figure size 1800x216 with 1 Axes>"
            ]
          },
          "metadata": {
            "tags": []
          }
        },
        {
          "output_type": "stream",
          "text": [
            "TITLE: fjallraven  womens ovik tshirt plum xxl \n",
            "ASIN : B06XC3CZF6\n",
            "Brand : Fjallraven\n",
            "euclidean distance from the given image : 3.1622776601683795\n",
            "=============================================================================================================================\n"
          ],
          "name": "stdout"
        },
        {
          "output_type": "display_data",
          "data": {
            "image/png": "[encoded data removed]",
            "text/plain": [
              "<Figure size 1800x216 with 1 Axes>"
            ]
          },
          "metadata": {
            "tags": []
          }
        },
        {
          "output_type": "stream",
          "text": [
            "TITLE: hetalia us girl tshirt \n",
            "ASIN : B005IT8OBA\n",
            "Brand : Hetalia\n",
            "euclidean distance from the given image : 3.1622776601683795\n",
            "=============================================================================================================================\n"
          ],
          "name": "stdout"
        },
        {
          "output_type": "display_data",
          "data": {
            "image/png": "[encoded data removed]",
            "text/plain": [
              "<Figure size 1800x216 with 1 Axes>"
            ]
          },
          "metadata": {
            "tags": []
          }
        },
        {
          "output_type": "stream",
          "text": [
            "TITLE: canvas 3001 30s tshirt  kelly  xl \n",
            "ASIN : B0088PN0LA\n",
            "Brand : Red House\n",
            "euclidean distance from the given image : 3.1622776601683795\n",
            "=============================================================================================================================\n"
          ],
          "name": "stdout"
        },
        {
          "output_type": "display_data",
          "data": {
            "image/png": "[encoded data removed]",
            "text/plain": [
              "<Figure size 1800x216 with 1 Axes>"
            ]
          },
          "metadata": {
            "tags": []
          }
        },
        {
          "output_type": "stream",
          "text": [
            "TITLE: brunello cucinelli tshirt women white xl \n",
            "ASIN : B06X99V6WC\n",
            "Brand : Brunello Cucinelli\n",
            "euclidean distance from the given image : 3.1622776601683795\n",
            "=============================================================================================================================\n"
          ],
          "name": "stdout"
        },
        {
          "output_type": "display_data",
          "data": {
            "image/png": "[encoded data removed]",
            "text/plain": [
              "<Figure size 1800x216 with 1 Axes>"
            ]
          },
          "metadata": {
            "tags": []
          }
        },
        {
          "output_type": "stream",
          "text": [
            "TITLE: xhilaration womens lace tshirt salmon xxl \n",
            "ASIN : B06Y1JPW1Q\n",
            "Brand : Xhilaration\n",
            "euclidean distance from the given image : 3.1622776601683795\n",
            "=============================================================================================================================\n"
          ],
          "name": "stdout"
        },
        {
          "output_type": "display_data",
          "data": {
            "image/png": "[encoded data removed]",
            "text/plain": [
              "<Figure size 1800x216 with 1 Axes>"
            ]
          },
          "metadata": {
            "tags": []
          }
        },
        {
          "output_type": "stream",
          "text": [
            "TITLE: animal oceania tshirt  yellow \n",
            "ASIN : B06X6GX6WG\n",
            "Brand : Animal\n",
            "euclidean distance from the given image : 3.1622776601683795\n",
            "=============================================================================================================================\n"
          ],
          "name": "stdout"
        },
        {
          "output_type": "display_data",
          "data": {
            "image/png": "[encoded data removed]",
            "text/plain": [
              "<Figure size 1800x216 with 1 Axes>"
            ]
          },
          "metadata": {
            "tags": []
          }
        },
        {
          "output_type": "stream",
          "text": [
            "TITLE: diesel tserraf tshirt black \n",
            "ASIN : B017X8PW9U\n",
            "Brand : Diesel\n",
            "euclidean distance from the given image : 3.1622776601683795\n",
            "=============================================================================================================================\n"
          ],
          "name": "stdout"
        },
        {
          "output_type": "display_data",
          "data": {
            "image/png": "[encoded data removed]",
            "text/plain": [
              "<Figure size 1800x216 with 1 Axes>"
            ]
          },
          "metadata": {
            "tags": []
          }
        },
        {
          "output_type": "stream",
          "text": [
            "TITLE: juniors love lucywaaaaahhhh tshirt size xl \n",
            "ASIN : B00IAA4JIQ\n",
            "Brand : I Love Lucy\n",
            "euclidean distance from the given image : 3.1622776601683795\n",
            "=============================================================================================================================\n"
          ],
          "name": "stdout"
        }
      ]
    },
    {
      "cell_type": "markdown",
      "metadata": {
        "id": "Dy38Ea0CMLSy",
        "colab_type": "text"
      },
      "source": [
        "## Observation(s):"
      ]
    },
    {
      "cell_type": "markdown",
      "metadata": {
        "id": "ieKSk4x8MLSz",
        "colab_type": "text"
      },
      "source": [
        "1. This recommendation system is based on the item - item similarity.\n",
        "2. Item -item similarity has been calculated using Euclidian distance.\n",
        "3. The matrix of euclidian distance for this problem has been calculated using a weighted average of IDF encoding of 'title',One hot encoding of 'Colour and Brand' and CNN based encoding of images."
      ]
    }
  ]
}